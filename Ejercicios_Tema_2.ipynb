{
  "nbformat": 4,
  "nbformat_minor": 0,
  "metadata": {
    "colab": {
      "name": "Ejercicios Tema 2.ipynb",
      "provenance": [],
      "collapsed_sections": []
    },
    "kernelspec": {
      "name": "python3",
      "display_name": "Python 3"
    },
    "language_info": {
      "name": "python"
    }
  },
  "cells": [
    {
      "cell_type": "markdown",
      "metadata": {
        "id": "gN2-JXtZLTKP"
      },
      "source": [
        "# 2. VARIABLES, OPERADORES, LISTAS Y FUNCIONES\n",
        "\n",
        "**EJERCICIOS:**"
      ]
    },
    {
      "cell_type": "markdown",
      "metadata": {
        "id": "DiAUQ4X2LhNB"
      },
      "source": [
        "En primer lugar, introduciremos unos conceptos básicos muy útiles para cualquier ejercicio. \n",
        "* **Comentarios:** Si queremos poner un comentario explicativo que no sea parte del código, solo tenemos que poner el simbolo # delante de nuestro texto"
      ]
    },
    {
      "cell_type": "code",
      "metadata": {
        "id": "li9Ij7qJJ033"
      },
      "source": [
        "#Esto es un ejemplo de comentario"
      ],
      "execution_count": 1,
      "outputs": []
    },
    {
      "cell_type": "markdown",
      "metadata": {
        "id": "I7StLapHL28N"
      },
      "source": [
        "* **Ejecutar una celda:** Para ejecutar una celda en los notebooks de Google Colab solo tenemos que hacer la combinación de teclas Ctrl+Enter, para ejecutar una celda y quedarnos en ella, o Shift+Enter para ejecutar una celda y pasar a la siguiente. Shift+Enter es muy útil para ejecutar una celda tras otra.\n",
        "\n",
        "A partir de ahora ejecuta los ejemplos siguientes para ver su funcionamiento."
      ]
    },
    {
      "cell_type": "markdown",
      "metadata": {
        "id": "qBUvRZtRMWct"
      },
      "source": [
        "* **Pedir al usuario un dato:** Si queremos que al ejecutar un programa éste nos pida información para ser introducida por el usuario, debemos usar la función input e indicar previamente de que tipo será la variable que introduzca el usuario. Es una buena práctica dejar un espacio al final de la quote que hagas para pedir el dato."
      ]
    },
    {
      "cell_type": "code",
      "metadata": {
        "colab": {
          "base_uri": "https://localhost:8080/"
        },
        "id": "jlercE-8L2tk",
        "outputId": "dd7123c1-9527-4527-ebbc-24a1d0e94131"
      },
      "source": [
        "#Para introducir un entero\n",
        "age = int(input('Cuántos años tienes? '))\n",
        "\n",
        "#Para introducir una string\n",
        "name = str(input('Cómo te llamas? '))"
      ],
      "execution_count": 5,
      "outputs": [
        {
          "name": "stdout",
          "output_type": "stream",
          "text": [
            "Cuántos años tienes? 24\n",
            "Cómo te llamas? Anna\n"
          ]
        }
      ]
    },
    {
      "cell_type": "markdown",
      "metadata": {
        "id": "pXpDXgQFNMz1"
      },
      "source": [
        "Ahora hemos guardado la información proporcionada por el usuario en las variables indicadas.\n",
        "\n",
        "* **Imprimir información:** Es muy útil siempre que estemos programando imprimir los resultados que vamos obteniendo para ver si lo estamos haciendo bien. Para imprimir el output usamos la función print. Con ella podemos imprimir tanto texto (siempre entre comillas) como variables, intercalando la información con comas. En este caso no hará falta indicar de que tipo son las variables que imprimamos."
      ]
    },
    {
      "cell_type": "code",
      "metadata": {
        "colab": {
          "base_uri": "https://localhost:8080/"
        },
        "id": "wkJNqW0CL0Aj",
        "outputId": "76c29f62-56c6-42ae-8b04-235883869a7f"
      },
      "source": [
        "print('El usuario tiene', age, 'años y se llama', name)"
      ],
      "execution_count": 6,
      "outputs": [
        {
          "output_type": "stream",
          "name": "stdout",
          "text": [
            "El usuario tiene 24 años y se llama Anna\n"
          ]
        }
      ]
    },
    {
      "cell_type": "markdown",
      "metadata": {
        "id": "lUrKzw-8N-Kd"
      },
      "source": [
        "Una vez tenemos clara esta información inicial, pasamos a los ejercicios. Deberéis imprimir el output de todos ellos para verificar que lo estáis haciendo correctamente."
      ]
    },
    {
      "cell_type": "markdown",
      "metadata": {
        "id": "BFdbI4bYOKXl"
      },
      "source": [
        "**Ejercicio 1**\n",
        "Definir una variable de cada tipo de los que hemos visto: int, float, string, list, dictionary y luego comprobar el tipo del que son mediante la función type(variable)"
      ]
    },
    {
      "cell_type": "code",
      "metadata": {
        "colab": {
          "base_uri": "https://localhost:8080/"
        },
        "id": "aZizI7IwNzZS",
        "outputId": "01a4cc5a-e04e-4c16-9915-a3ec8c4a348f"
      },
      "source": [
        "#Ejemplo\n",
        "x = 1\n",
        "type(x)"
      ],
      "execution_count": 7,
      "outputs": [
        {
          "output_type": "execute_result",
          "data": {
            "text/plain": [
              "int"
            ]
          },
          "metadata": {},
          "execution_count": 7
        }
      ]
    },
    {
      "cell_type": "markdown",
      "metadata": {
        "id": "AlU_83akOr8M"
      },
      "source": [
        "**Ejercicio 2**\n",
        "Pide al usuario dos números y luego calcula su suma e imprímela"
      ]
    },
    {
      "cell_type": "code",
      "metadata": {
        "id": "RSPL3U8VOrjV"
      },
      "source": [
        ""
      ],
      "execution_count": null,
      "outputs": []
    },
    {
      "cell_type": "markdown",
      "metadata": {
        "id": "gPaI4IlpO4Yu"
      },
      "source": [
        "**Ejercicio 3**\n",
        "Calcula el área de un triangulo equilátero de base=8cm y altura=3cm. Recuerda que la formúla para calcular el área de un triangulo equilátero es base por altura entre 2."
      ]
    },
    {
      "cell_type": "code",
      "metadata": {
        "id": "8nJbcIwEOqC2"
      },
      "source": [
        "\n"
      ],
      "execution_count": null,
      "outputs": []
    },
    {
      "cell_type": "markdown",
      "metadata": {
        "id": "6JeTxpZ7PXTH"
      },
      "source": [
        "**Ejercicio 4** \n",
        "Pide un número entero al usuario y averigua si es par o impar con una sola operación"
      ]
    },
    {
      "cell_type": "code",
      "metadata": {
        "id": "32cODccyPsaE"
      },
      "source": [
        ""
      ],
      "execution_count": null,
      "outputs": []
    },
    {
      "cell_type": "markdown",
      "metadata": {
        "id": "uIYvCHivPr68"
      },
      "source": [
        "**Ejercicio 5**\n",
        "Intercambia los valores de dos variables, haz que lo que contenga la variable x esté en la variable y y lo que está en la variable y esté en la x."
      ]
    },
    {
      "cell_type": "code",
      "metadata": {
        "id": "bnpJJI3MPs0G"
      },
      "source": [
        "#Definimos variables\n",
        "x = 'Hello'\n",
        "y = 3"
      ],
      "execution_count": null,
      "outputs": []
    },
    {
      "cell_type": "code",
      "metadata": {
        "id": "tmE7KE4-QD7G"
      },
      "source": [
        ""
      ],
      "execution_count": null,
      "outputs": []
    },
    {
      "cell_type": "markdown",
      "metadata": {
        "id": "wh1Fm5YPPoo4"
      },
      "source": [
        "**Ejercicio 6**\n",
        "Consigue que todas las palabras que se encuentran en distintos strings se encuentren en un solo string que forme una frase"
      ]
    },
    {
      "cell_type": "code",
      "metadata": {
        "id": "uLaNhq4MPoVI"
      },
      "source": [
        "#Definimos las palabras\n",
        "word1 = '¿Qué'\n",
        "word2 = 'prefieres'\n",
        "word3 = 'para'\n",
        "word4 = 'desayunar?'"
      ],
      "execution_count": null,
      "outputs": []
    },
    {
      "cell_type": "code",
      "metadata": {
        "id": "RKdpw94zQx8m"
      },
      "source": [
        ""
      ],
      "execution_count": null,
      "outputs": []
    },
    {
      "cell_type": "markdown",
      "metadata": {
        "id": "1a3EPksVQyPl"
      },
      "source": [
        "**Ejercicio 7**\n",
        "Pon en un comentario el resultado que crees que saldrá de cada comparador y luego ejecuta y comprueba"
      ]
    },
    {
      "cell_type": "code",
      "metadata": {
        "id": "0WAEAVM0Q4SO"
      },
      "source": [
        "print(9>=2 or 132<128)\n",
        "print(3 in [1,4,5,32] and 1==1)\n",
        "print(9+3*2+1 == 25)\n",
        "print(24%2 == 0)\n",
        "print(15//2 == 7.5)\n",
        "print(2**3 != 8)"
      ],
      "execution_count": null,
      "outputs": []
    },
    {
      "cell_type": "markdown",
      "metadata": {
        "id": "0bD4AyD6SG5-"
      },
      "source": [
        "**Ejercicio 8** Para encontrar el máximo de una lista podemos usar la función max(), pero en este caso lo encontraremos de una forma distinta y comprobaremos que lo hayamos hecho bien con la función max(). Encuentra el máximo entre las listas list1 y list2: Dadas dos listas list1 y list2 concatenalas, luego ordena la lista resultante mediante la función .sort() y quédate con el último elemento que será el máximo."
      ]
    },
    {
      "cell_type": "code",
      "metadata": {
        "id": "76R5lESXRMOo"
      },
      "source": [
        "list1 = [6, 13, 8, 21]\n",
        "list2 = [2, -50, 25]"
      ],
      "execution_count": 19,
      "outputs": []
    },
    {
      "cell_type": "code",
      "metadata": {
        "id": "lEsfikpbTitv"
      },
      "source": [
        ""
      ],
      "execution_count": null,
      "outputs": []
    },
    {
      "cell_type": "markdown",
      "metadata": {
        "id": "KecnckzsTr-X"
      },
      "source": [
        "**Ejercicio 9** Añade la palabra 'Fin' al final de la lista obtenida en el apartado anterior mediante la función .append(). Y añade en la posición 2 de la misma lista la string 'Posición 2' mediante la función .insert()"
      ]
    },
    {
      "cell_type": "code",
      "metadata": {
        "id": "QpzT70nRT8F1"
      },
      "source": [
        ""
      ],
      "execution_count": null,
      "outputs": []
    },
    {
      "cell_type": "markdown",
      "metadata": {
        "id": "kCg7cfRvUP3e"
      },
      "source": [
        "**Ejercicio 10** Accede al primer elemento de la lista obtenida en el apartado anterior"
      ]
    },
    {
      "cell_type": "code",
      "metadata": {
        "id": "1uKeIIKjUZzB"
      },
      "source": [
        ""
      ],
      "execution_count": null,
      "outputs": []
    },
    {
      "cell_type": "markdown",
      "metadata": {
        "id": "02sobppfUc1t"
      },
      "source": [
        "**Ejercicio 11** Guarda en una lista llamada first3 los tres primeros elementos de la lista del apartado anterior y en otra lista llamada last3 los 3 últimos elementos. \n",
        "\n",
        "Recuerda que para seleccionar un trozo de una lista lo podemos indicar de la siguiente manera: Si quiero obtener de la posición 2 a la 5 de mylist los seleccionaré haciendo mylist[2:5]. Si queremos indicar el primer o el último elemento no hace falta poner nada en ese lugar, con mylist[:] obtendríamos todos los elementos de la lista."
      ]
    },
    {
      "cell_type": "code",
      "metadata": {
        "id": "EY4QyKySUcYl"
      },
      "source": [
        ""
      ],
      "execution_count": 22,
      "outputs": []
    },
    {
      "cell_type": "markdown",
      "metadata": {
        "id": "CHtXdRBLVFF1"
      },
      "source": [
        "**Ejercicio 12** \n",
        "Para ordenar una lista, tenemos la función lista.sort() y la función sorted(lista). Con la función .sort() ordenamos la lista a la que aplicamos la función de manera permanente. Con la función sorted() hacemos una copia ordenada de la lista. Por defecto, estas funciones ordenan de menor a mayor en caso de ser números y en orden alfabético en caso de tener strings. Pero podemos colocar la expresion reverse=True dentro del parentesis de las funciones de orden, con la que el orden será el inverso.\n",
        "\n",
        "Ordena la lista my_list de menor a mayor y haz una copia de esta ordenada de mayor a menor usando las funciones acabadas de explicar."
      ]
    },
    {
      "cell_type": "code",
      "metadata": {
        "id": "Kgyi3vM2XffI"
      },
      "source": [
        "my_list = [-88, 21, 5, -2, 0, 4, 12]"
      ],
      "execution_count": 25,
      "outputs": []
    },
    {
      "cell_type": "code",
      "metadata": {
        "id": "apQ5NP5vYTob"
      },
      "source": [
        ""
      ],
      "execution_count": 25,
      "outputs": []
    },
    {
      "cell_type": "markdown",
      "metadata": {
        "id": "f88w_PHyYVni"
      },
      "source": [
        "**Ejercicio 13**\n",
        "Dado el siguiente diccionario, responde a las siguientes preguntas:"
      ]
    },
    {
      "cell_type": "code",
      "metadata": {
        "id": "M-cFrpkyY8D0"
      },
      "source": [
        "#Definimos el diccionario\n",
        "\n",
        "dict = {name : 'Britney Spears', born : 1981, profession : 'singer'}"
      ],
      "execution_count": null,
      "outputs": []
    },
    {
      "cell_type": "markdown",
      "metadata": {
        "id": "9BEo4MJJZL7m"
      },
      "source": [
        "* En que año nació Britney Spears?"
      ]
    },
    {
      "cell_type": "code",
      "metadata": {
        "id": "7aZ_10jBZbUG"
      },
      "source": [
        ""
      ],
      "execution_count": null,
      "outputs": []
    },
    {
      "cell_type": "markdown",
      "metadata": {
        "id": "JJZ1wMAQZUFL"
      },
      "source": [
        "* Añade al diccionario el país en el que nació Britney Spears"
      ]
    },
    {
      "cell_type": "code",
      "metadata": {
        "id": "m0sAEx68ZT1m"
      },
      "source": [
        ""
      ],
      "execution_count": null,
      "outputs": []
    },
    {
      "cell_type": "markdown",
      "metadata": {
        "id": "JZ_AMcbeZd_P"
      },
      "source": [
        "* Cambia la profesión de 'singer' a 'dancer'"
      ]
    },
    {
      "cell_type": "code",
      "metadata": {
        "id": "jlVaLYqMZifJ"
      },
      "source": [
        ""
      ],
      "execution_count": null,
      "outputs": []
    },
    {
      "cell_type": "markdown",
      "metadata": {
        "id": "m61h7NkbZjFc"
      },
      "source": [
        "**Ejercicio 14** \n",
        "Crea un diccionario con las notas que ha sacado Pepito en Matemáticas, Lengua, Química y Historia (inventadas) y devuelve su mejor nota. Recuerda que hay una función que nos devuelve el máximo en una secuencia."
      ]
    },
    {
      "cell_type": "code",
      "metadata": {
        "id": "hMTeoL3naLA6"
      },
      "source": [
        ""
      ],
      "execution_count": null,
      "outputs": []
    },
    {
      "cell_type": "markdown",
      "metadata": {
        "id": "N4DuVBWvaMlm"
      },
      "source": [
        "Ahora extrae las notas de Pepito del diccionario mediante la función .values() y guardalas en una lista. Con esta lista y usando las funciones sum() y len(), calcula la media de las notas de Pepito."
      ]
    },
    {
      "cell_type": "code",
      "metadata": {
        "id": "_-xhlBQYaT6B"
      },
      "source": [
        ""
      ],
      "execution_count": null,
      "outputs": []
    }
  ]
}