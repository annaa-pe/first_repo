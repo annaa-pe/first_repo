{
  "nbformat": 4,
  "nbformat_minor": 0,
  "metadata": {
    "colab": {
      "name": "Ejercicios Tema 4.ipynb",
      "provenance": [],
      "collapsed_sections": []
    },
    "kernelspec": {
      "name": "python3",
      "display_name": "Python 3"
    },
    "language_info": {
      "name": "python"
    }
  },
  "cells": [
    {
      "cell_type": "markdown",
      "metadata": {
        "id": "gN2-JXtZLTKP"
      },
      "source": [
        "# 4. NUMPY Y PANDAS SERIES\n",
        "\n",
        "**EJERCICIOS:**"
      ]
    },
    {
      "cell_type": "markdown",
      "metadata": {
        "id": "7Z8_OktFiR2E"
      },
      "source": [
        "Antes de empezar a resolver ejercicios con Numpy y Pandas, aprendamos a importar una librería en Python.\n",
        "\n",
        "Una librería está compuesta por un conjunto de funciones que podremos usar una vez la hemos importado. Para importar cualquier libreria en Python debemos usar el comando import, pero hay dos buenas prácticas para importarlas."
      ]
    },
    {
      "cell_type": "markdown",
      "metadata": {
        "id": "7NsT64F2jYX4"
      },
      "source": [
        "1. La manera más común: **importar la librería entera y renombrarla si nos interesa** mediante la palabra 'as'. Por ejemplo numpy suele ser renombrado como np."
      ]
    },
    {
      "cell_type": "code",
      "metadata": {
        "id": "LVgwqnGKPvn2"
      },
      "source": [
        "import numpy as np"
      ],
      "execution_count": null,
      "outputs": []
    },
    {
      "cell_type": "markdown",
      "metadata": {
        "id": "mjsjYWb7j3fQ"
      },
      "source": [
        "Con esta primera forma, cada vez que llamemos a una función de la librería deberemos poner el nombre de la librería seguido de un punto antes de la función, o en su defecto, si la hemos renombrado deberemos poner el nombre que le hemos asignado. Veamos un ejemplo a continuación:"
      ]
    },
    {
      "cell_type": "code",
      "metadata": {
        "id": "ayviI8M0jmHQ"
      },
      "source": [
        "arr = np.array([1,2,2])"
      ],
      "execution_count": null,
      "outputs": []
    },
    {
      "cell_type": "code",
      "metadata": {
        "colab": {
          "base_uri": "https://localhost:8080/",
          "height": 166
        },
        "id": "xdwlTEgXkF2x",
        "outputId": "f3f9eeb7-9c8b-46e5-9b60-c94b525e555a"
      },
      "source": [
        "arr = array([1,2,2])"
      ],
      "execution_count": null,
      "outputs": [
        {
          "output_type": "error",
          "ename": "NameError",
          "evalue": "ignored",
          "traceback": [
            "\u001b[0;31m---------------------------------------------------------------------------\u001b[0m",
            "\u001b[0;31mNameError\u001b[0m                                 Traceback (most recent call last)",
            "\u001b[0;32m<ipython-input-4-c5dafa2d22b6>\u001b[0m in \u001b[0;36m<module>\u001b[0;34m()\u001b[0m\n\u001b[0;32m----> 1\u001b[0;31m \u001b[0marr\u001b[0m \u001b[0;34m=\u001b[0m \u001b[0marray\u001b[0m\u001b[0;34m(\u001b[0m\u001b[0;34m[\u001b[0m\u001b[0;36m1\u001b[0m\u001b[0;34m,\u001b[0m\u001b[0;36m2\u001b[0m\u001b[0;34m,\u001b[0m\u001b[0;36m2\u001b[0m\u001b[0;34m]\u001b[0m\u001b[0;34m)\u001b[0m\u001b[0;34m\u001b[0m\u001b[0;34m\u001b[0m\u001b[0m\n\u001b[0m",
            "\u001b[0;31mNameError\u001b[0m: name 'array' is not defined"
          ]
        }
      ]
    },
    {
      "cell_type": "markdown",
      "metadata": {
        "id": "I_Slw-MmkJT-"
      },
      "source": [
        "Como podéis ver, si no ponemos la librería de la que procede la función nos da error."
      ]
    },
    {
      "cell_type": "markdown",
      "metadata": {
        "id": "__EIc-LykRFQ"
      },
      "source": [
        "2. La segunda forma es muy usada cuando **solo queremos alguna función en concreto de una libreria** y no necesitamos importar toda la librería entera. Por ejemplo, si solo quisieramos la función array de numpy haríamos lo siguiente:"
      ]
    },
    {
      "cell_type": "code",
      "metadata": {
        "id": "fFNltZwrkQp_"
      },
      "source": [
        "from numpy import array"
      ],
      "execution_count": null,
      "outputs": []
    },
    {
      "cell_type": "markdown",
      "metadata": {
        "id": "NcN3hyPCk0on"
      },
      "source": [
        "Si llevamos a cabo este procedimiento, al usar las funciones concretas que importemos no hará falta indicar la librería de la que proceden como en el punto anterior. Veámoslo a continuación:"
      ]
    },
    {
      "cell_type": "code",
      "metadata": {
        "id": "zYMNn7qekITM"
      },
      "source": [
        "arr = array([8,9,1])"
      ],
      "execution_count": null,
      "outputs": []
    },
    {
      "cell_type": "markdown",
      "metadata": {
        "id": "WGUzyUiglFEG"
      },
      "source": [
        "Ahora no nos ha dado ningún error."
      ]
    },
    {
      "cell_type": "markdown",
      "metadata": {
        "id": "l0dA6YqdlVLY"
      },
      "source": [
        "Empecemos con los ejercicios:\n"
      ]
    },
    {
      "cell_type": "markdown",
      "metadata": {
        "id": "i0HPun6IlYu2"
      },
      "source": [
        "**Ejercicio 1**\n",
        "Importa la libreria numpy y renombrala como np"
      ]
    },
    {
      "cell_type": "code",
      "metadata": {
        "id": "egQll23hlELe"
      },
      "source": [
        ""
      ],
      "execution_count": null,
      "outputs": []
    },
    {
      "cell_type": "markdown",
      "metadata": {
        "id": "tJALNb9Glhn9"
      },
      "source": [
        "**Ejercicio 2** Crea un array a partir de la lista [1,2,3] y comprueba el tipo de variable que has creado mediante la función dtype como hicimos en los ejercicios de la primera unidad"
      ]
    },
    {
      "cell_type": "code",
      "metadata": {
        "id": "kfyxG9Gzlqa2"
      },
      "source": [
        ""
      ],
      "execution_count": null,
      "outputs": []
    },
    {
      "cell_type": "markdown",
      "metadata": {
        "id": "zvdQV75Zlqv2"
      },
      "source": [
        "**Ejercicio 3** Crea un array a partir de la lista definida a continuación "
      ]
    },
    {
      "cell_type": "code",
      "metadata": {
        "id": "bZWqzpa8lvxK"
      },
      "source": [
        "#Definimos la lista\n",
        "lista1 = [3,6,2,1]"
      ],
      "execution_count": null,
      "outputs": []
    },
    {
      "cell_type": "code",
      "metadata": {
        "id": "fcKWcj89ly1g"
      },
      "source": [
        "#Crea el array a partir de lista1\n"
      ],
      "execution_count": null,
      "outputs": []
    },
    {
      "cell_type": "markdown",
      "metadata": {
        "id": "xO-gGQ0Ul4MQ"
      },
      "source": [
        "**Ejercicio 4** Crea un array de dos dimensiones, es decir, crea un array a partir de una lista que contenga listas. Un array de dos dimensiones también se llama una **matriz**"
      ]
    },
    {
      "cell_type": "code",
      "metadata": {
        "id": "EH3F0CxxmPQo"
      },
      "source": [
        ""
      ],
      "execution_count": null,
      "outputs": []
    },
    {
      "cell_type": "markdown",
      "metadata": {
        "id": "JYrKMrpJmQgj"
      },
      "source": [
        "**Ejercicio 5** Completa el código substituyendo los guiones bajos con la función necesaria para crear un array de medida 6 lleno de **ceros**"
      ]
    },
    {
      "cell_type": "code",
      "metadata": {
        "id": "aaGuqiaYng3R"
      },
      "source": [
        "arr1 = np.________(6)"
      ],
      "execution_count": null,
      "outputs": []
    },
    {
      "cell_type": "markdown",
      "metadata": {
        "id": "uyyVWinln8Bf"
      },
      "source": [
        "**Ejercicio 6** Completa el código substituyendo los guiones bajos con la función necesaria para crear un array de medida 6 lleno de **unos**"
      ]
    },
    {
      "cell_type": "code",
      "metadata": {
        "id": "W4ePwSPDnl8k"
      },
      "source": [
        "arr2 = np.________(6)"
      ],
      "execution_count": null,
      "outputs": []
    },
    {
      "cell_type": "markdown",
      "metadata": {
        "id": "cJ7cqf2soKYV"
      },
      "source": [
        "**Ejercicio 7** Crea un array vacío de medida 10 mediante la función empty"
      ]
    },
    {
      "cell_type": "code",
      "metadata": {
        "id": "1-5iYzAMoKFI"
      },
      "source": [
        ""
      ],
      "execution_count": null,
      "outputs": []
    },
    {
      "cell_type": "markdown",
      "metadata": {
        "id": "BGlz-_LFoi3t"
      },
      "source": [
        "**Ejercicio 8** Crea un array que contenga los múltiples de 5 del 0 al 25 (es decir: 0,5,10,...,25) mediante la función arange"
      ]
    },
    {
      "cell_type": "code",
      "metadata": {
        "id": "3oRrXiLqoiiW"
      },
      "source": [
        ""
      ],
      "execution_count": null,
      "outputs": []
    },
    {
      "cell_type": "markdown",
      "metadata": {
        "id": "jLZ1mtv0o3H3"
      },
      "source": [
        "**Ejercicio 9** Escribe la medida que crees que tiene el array arr3 y luego comprueba si has acertado con la función np.size()"
      ]
    },
    {
      "cell_type": "code",
      "metadata": {
        "id": "tnNhv8jrpjWV"
      },
      "source": [
        "#definimos el array arr3\n",
        "arr3 = np.array([4,7,8])"
      ],
      "execution_count": null,
      "outputs": []
    },
    {
      "cell_type": "code",
      "metadata": {
        "id": "nDNcnaILpoRE"
      },
      "source": [
        "#comprueba su medida\n"
      ],
      "execution_count": null,
      "outputs": []
    },
    {
      "cell_type": "markdown",
      "metadata": {
        "id": "LwyFHZpoqcQu"
      },
      "source": [
        "**Ejercicio 10** Ahora escribe las dimensiones (forma) que crees que tiene arr3 y luego compruebalo con la función np.shape()"
      ]
    },
    {
      "cell_type": "code",
      "metadata": {
        "id": "TwfTXWtbpv3w"
      },
      "source": [
        ""
      ],
      "execution_count": null,
      "outputs": []
    },
    {
      "cell_type": "markdown",
      "metadata": {
        "id": "N0nw9DeqymN0"
      },
      "source": [
        "**Ejercicio 11** Substituye la almohadilla # y obtén el primer elemento de arr3, definido en el ejercicio 9, y guardalo en la variable first_item:"
      ]
    },
    {
      "cell_type": "code",
      "metadata": {
        "id": "0n14arXJyxmF"
      },
      "source": [
        "first_item = arr3[#]"
      ],
      "execution_count": null,
      "outputs": []
    },
    {
      "cell_type": "markdown",
      "metadata": {
        "id": "gHxX8hetzC9l"
      },
      "source": [
        "Ahora substituye la almohadilla # y obtén el último elemento de arr3 guardado en last_item. Recuerda que puedes usar también números negativos:"
      ]
    },
    {
      "cell_type": "code",
      "metadata": {
        "id": "z_kQEhcAzVMN"
      },
      "source": [
        "last_item = arr3[#]"
      ],
      "execution_count": null,
      "outputs": []
    },
    {
      "cell_type": "markdown",
      "metadata": {
        "id": "anTud5OWq44w"
      },
      "source": [
        "**Ejercicio 12** Haz lo mismo que en los ejercicios 9 y 10 pero para arr4"
      ]
    },
    {
      "cell_type": "code",
      "metadata": {
        "id": "oywjTscwq-GV"
      },
      "source": [
        "arr4 = np.array([[2,6,4], [1,3,8]])"
      ],
      "execution_count": null,
      "outputs": []
    },
    {
      "cell_type": "code",
      "metadata": {
        "id": "jCbnmGEFrCC7"
      },
      "source": [
        ""
      ],
      "execution_count": null,
      "outputs": []
    },
    {
      "cell_type": "markdown",
      "metadata": {
        "id": "se-QNeVwsuEJ"
      },
      "source": [
        "**Ejercicio 13** Substituye las almohadillas # por los número correspondientes para que arr4_item = 6, teniendo en cuenta que arr4 es el array definido en el ejercicio anterior\n"
      ]
    },
    {
      "cell_type": "code",
      "metadata": {
        "id": "1fzq1YANtATk"
      },
      "source": [
        "#forma 1\n",
        "arr4_item = arr4[#][#]"
      ],
      "execution_count": null,
      "outputs": []
    },
    {
      "cell_type": "code",
      "metadata": {
        "id": "TjryUtORvHqI"
      },
      "source": [
        "#forma 2\n",
        "arr4_item = arr4[#,#]"
      ],
      "execution_count": null,
      "outputs": []
    },
    {
      "cell_type": "markdown",
      "metadata": {
        "id": "u68ac421vOqX"
      },
      "source": [
        "**Ejercicio 14** Substituye la almohadilla para que new_arr4 = [1,3,8]"
      ]
    },
    {
      "cell_type": "code",
      "metadata": {
        "id": "ZC4KJ41Kvail"
      },
      "source": [
        "new_arr4 = arr4[#]"
      ],
      "execution_count": null,
      "outputs": []
    },
    {
      "cell_type": "markdown",
      "metadata": {
        "id": "RKcKPg3ave2U"
      },
      "source": [
        "**Ejercicio 15** Define un array llamado my_array de manera que my_slice = my_array[2][3] sea igual a 2 y my_second_slice = my_array[0][1] sea igual a 4. Comprueba que lo haas hecho bien ejecutando la segunda celda."
      ]
    },
    {
      "cell_type": "code",
      "metadata": {
        "id": "jz3-4L31veQm"
      },
      "source": [
        "#Define my_array\n",
        "my_array = "
      ],
      "execution_count": null,
      "outputs": []
    },
    {
      "cell_type": "code",
      "metadata": {
        "id": "6yGvhM8Av9Dz"
      },
      "source": [
        "#Comprobamos que my_array esté definido correctamente (solo ejecutar)\n",
        "\n",
        "my_slice = my_array[2][3]\n",
        "my_second_slice = my_array[0][1]\n",
        "\n",
        "if my_slice!=2 or my_second_slice!=4:\n",
        "  print('Error! O bien my_slice o bien my_second_slice no corresponden a los resultados indicados')\n",
        "else:\n",
        "  print('Correcto! my_slice y my_second_slice contienen los resultados esperados')"
      ],
      "execution_count": null,
      "outputs": []
    },
    {
      "cell_type": "markdown",
      "metadata": {
        "id": "CVLoDrwOrC6F"
      },
      "source": [
        "**Ejercicio 16** Substituye los guiones bajos de manera que en w1 tengamos todos los elementos menores o iguales que 5 de v1. Imprime w1 para comprobarlo."
      ]
    },
    {
      "cell_type": "code",
      "metadata": {
        "id": "FtXwSPGf0KEp"
      },
      "source": [
        "v1 = np.array([2,7,1,8,9,5])"
      ],
      "execution_count": null,
      "outputs": []
    },
    {
      "cell_type": "code",
      "metadata": {
        "id": "ws3IflJq0O4a"
      },
      "source": [
        "w1 = v1[_____]"
      ],
      "execution_count": null,
      "outputs": []
    },
    {
      "cell_type": "markdown",
      "metadata": {
        "id": "Uww3ddVL0Zy0"
      },
      "source": [
        "Ahora haz que w2 contenga todos los elementos mayores que 5 de v1 y el número 2 de v1. Imprime w2 para comprobarlo."
      ]
    },
    {
      "cell_type": "code",
      "metadata": {
        "id": "kKPtctJ70ZWr"
      },
      "source": [
        "w2 = v1[_____]"
      ],
      "execution_count": null,
      "outputs": []
    },
    {
      "cell_type": "markdown",
      "metadata": {
        "id": "_ecgS0aD0pMF"
      },
      "source": [
        "**Ejercicio 17** Multiplica w1 por 2 y sumale w2 al resultado, guárdalo en w3 e imprímelo."
      ]
    },
    {
      "cell_type": "code",
      "metadata": {
        "id": "3aNA0ZEFp4Er"
      },
      "source": [
        ""
      ],
      "execution_count": null,
      "outputs": []
    },
    {
      "cell_type": "markdown",
      "metadata": {
        "id": "yeK2x-ovqGfJ"
      },
      "source": [
        "**Ejercicio 18** Concatena los arrays w1 y w2 con la función np.concatenate() e imprime el resultado"
      ]
    },
    {
      "cell_type": "code",
      "metadata": {
        "id": "dYaMCgJeqGMQ"
      },
      "source": [
        ""
      ],
      "execution_count": null,
      "outputs": []
    },
    {
      "cell_type": "markdown",
      "metadata": {
        "id": "FcxsMZs6uN3M"
      },
      "source": [
        "**Ejercicio 19** Sean a y b los arrays definidos a continuación, piensa en que resultados crees que tendrán las operaciones siguientes. Luego programalas, ejecuta y comprueba si has acertado el resultado\n",
        "\n",
        "* a-b*2\n",
        "* (a+b)/3\n",
        "* b**2\n",
        "* a%2\n"
      ]
    },
    {
      "cell_type": "code",
      "metadata": {
        "id": "2x6710vDuNlL"
      },
      "source": [
        "#Definimos los arrays a y b\n",
        "a = np.array([2,1,1,5,4])\n",
        "b = np.array([0,7,0,4,6])"
      ],
      "execution_count": null,
      "outputs": []
    },
    {
      "cell_type": "code",
      "metadata": {
        "id": "pdSAHNqMsa4U"
      },
      "source": [
        ""
      ],
      "execution_count": null,
      "outputs": []
    },
    {
      "cell_type": "markdown",
      "metadata": {
        "id": "_CCjJtHuMG27"
      },
      "source": [
        "**Ejercicio 20** Crea una array con las alturas de los 10 alumnos de una clase, luego calcula la media y la mediana de las alturas de los alumnos con las funciones np.mean() y np.median()"
      ]
    },
    {
      "cell_type": "code",
      "metadata": {
        "id": "7mljDXszMGeH"
      },
      "source": [
        ""
      ],
      "execution_count": null,
      "outputs": []
    },
    {
      "cell_type": "markdown",
      "metadata": {
        "id": "Jst3ll1V87qM"
      },
      "source": [
        "**Ejercicio 21** Ha llegado una chica nueva a la clase, añade su altura en el array del ejercicio anterior mediante la función np.append() y luego ordena las alturas de menor a mayor con la función np.sort(). Recuerda que para ordenar de menor a mayor hay que usar el parametro Reverse=True"
      ]
    },
    {
      "cell_type": "code",
      "metadata": {
        "id": "6GU7zMDa9ts0"
      },
      "source": [
        ""
      ],
      "execution_count": null,
      "outputs": []
    },
    {
      "cell_type": "markdown",
      "metadata": {
        "id": "90E0Z5r5qiCw"
      },
      "source": [
        "**Ejercicio 22** Importa la librería Pandas y crea una serie de Pandas a partir del array del ejercicio anterior"
      ]
    },
    {
      "cell_type": "code",
      "metadata": {
        "id": "wH3YziMOrPV6"
      },
      "source": [
        ""
      ],
      "execution_count": null,
      "outputs": []
    },
    {
      "cell_type": "markdown",
      "metadata": {
        "id": "qfU8HjBbrp10"
      },
      "source": [
        "**Ejercicio 23** Guarda en un nuevo array las 3 últimas alturas del ejercicio 21, las de los alumnos más altos. Luego crea una Serie con estas tres alturas y define como index de la Serie los nombres de los alumnos asociados (invéntatelos)"
      ]
    },
    {
      "cell_type": "code",
      "metadata": {
        "id": "5OMTV3kfsFLS"
      },
      "source": [
        ""
      ],
      "execution_count": null,
      "outputs": []
    },
    {
      "cell_type": "markdown",
      "metadata": {
        "id": "eWWoocpXsEmh"
      },
      "source": [
        "**Ejercicio 24** Selecciona el alumno más alto de la serie del ejercicio anterior. Puedes hacerlo usando los corchetes [ ], o también recuerda que en Pandas Series tenemos las funciones head() y tail()"
      ]
    },
    {
      "cell_type": "code",
      "metadata": {
        "id": "cyhwvjbpsmyS"
      },
      "source": [
        ""
      ],
      "execution_count": null,
      "outputs": []
    },
    {
      "cell_type": "markdown",
      "metadata": {
        "id": "0B3KZgIFsEjm"
      },
      "source": [
        "**Ejercicio 25** Definimos el diccionario dict1 formado por los nombres de 5 personas junto con sus edades. Crea una serie de Pandas a partir de este diccionario."
      ]
    },
    {
      "cell_type": "code",
      "metadata": {
        "id": "CkbUovtnu0IP"
      },
      "source": [
        "dict1 = { 'nombre' : ['Carlos', 'Marta', 'Alberto'],\n",
        "         'edad' : [42, 36, 51]\n",
        "      }"
      ],
      "execution_count": null,
      "outputs": []
    },
    {
      "cell_type": "code",
      "metadata": {
        "id": "WPjOf7tkuz1k"
      },
      "source": [
        ""
      ],
      "execution_count": null,
      "outputs": []
    },
    {
      "cell_type": "markdown",
      "metadata": {
        "id": "H1oiBnzovLd-"
      },
      "source": [
        "**Ejercicio 26** Selecciona la edad de Marta a partir del labeled index de la serie creada en el ejercicio anterior "
      ]
    },
    {
      "cell_type": "code",
      "metadata": {
        "id": "ukKBxzryvsxo"
      },
      "source": [
        ""
      ],
      "execution_count": null,
      "outputs": []
    },
    {
      "cell_type": "markdown",
      "metadata": {
        "id": "ql1phoO1v-Qy"
      },
      "source": [
        "**Ejercicio 27** Selecciona la edad de la persona más mayor de dict1. Recuerda que podemos usar las funciones max() o nlargest()"
      ]
    },
    {
      "cell_type": "code",
      "metadata": {
        "id": "xQFXCB9Jx22O"
      },
      "source": [
        ""
      ],
      "execution_count": null,
      "outputs": []
    },
    {
      "cell_type": "markdown",
      "metadata": {
        "id": "EjQBoL-wxiZh"
      },
      "source": [
        "**Ejercicio 28** Calcula la media de las edades de dict1 mediante la función mean()"
      ]
    },
    {
      "cell_type": "code",
      "metadata": {
        "id": "qWCeai-ZxiNH"
      },
      "source": [
        ""
      ],
      "execution_count": null,
      "outputs": []
    }
  ]
}