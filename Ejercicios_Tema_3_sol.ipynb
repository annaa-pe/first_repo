{
  "nbformat": 4,
  "nbformat_minor": 0,
  "metadata": {
    "colab": {
      "name": "Ejercicios Tema 3_sol.ipynb",
      "provenance": [],
      "collapsed_sections": []
    },
    "kernelspec": {
      "name": "python3",
      "display_name": "Python 3"
    },
    "language_info": {
      "name": "python"
    }
  },
  "cells": [
    {
      "cell_type": "markdown",
      "metadata": {
        "id": "3jaJJkm7pLYG"
      },
      "source": [
        "# 3. CONDICIONES, BUCLES Y FUNCIONES\n",
        "\n",
        "**EJERCICIOS:**\n",
        "\n",
        "En todos los ejercicios se deberá imprmir el resultado obtenido, para que sea más fácil evaluar si es correcto. "
      ]
    },
    {
      "cell_type": "markdown",
      "metadata": {
        "id": "-TWtWA7JpMdC"
      },
      "source": [
        "1. Imprime los números del 1 al 10 usando un bucle while, luego haz lo mismo con un bucle for"
      ]
    },
    {
      "cell_type": "code",
      "metadata": {
        "colab": {
          "base_uri": "https://localhost:8080/"
        },
        "id": "-xmxECxBqVtH",
        "outputId": "20fa60af-0967-4a7c-fe8c-2e936689ef95"
      },
      "source": [
        "#resuelve el ejercicio mediante un while\n",
        "i=1\n",
        "\n",
        "while(i<=10):\n",
        "  print(i)\n",
        "  i+=1"
      ],
      "execution_count": null,
      "outputs": [
        {
          "output_type": "stream",
          "name": "stdout",
          "text": [
            "1\n",
            "2\n",
            "3\n",
            "4\n",
            "5\n",
            "6\n",
            "7\n",
            "8\n",
            "9\n",
            "10\n"
          ]
        }
      ]
    },
    {
      "cell_type": "code",
      "metadata": {
        "colab": {
          "base_uri": "https://localhost:8080/"
        },
        "id": "hx2z-nYH9DjC",
        "outputId": "111fd75c-854b-4d0b-97dd-3d806ce758d6"
      },
      "source": [
        "#resuelve el ejercicio mediante un for\n",
        "\n",
        "for i in range(11):\n",
        "  print(i)\n",
        "\n",
        "print('\\n')\n",
        "\n",
        "for i in range(1,11,1):\n",
        "  print(i)"
      ],
      "execution_count": null,
      "outputs": [
        {
          "output_type": "stream",
          "name": "stdout",
          "text": [
            "0\n",
            "1\n",
            "2\n",
            "3\n",
            "4\n",
            "5\n",
            "6\n",
            "7\n",
            "8\n",
            "9\n",
            "10\n",
            "\n",
            "\n",
            "1\n",
            "2\n",
            "3\n",
            "4\n",
            "5\n",
            "6\n",
            "7\n",
            "8\n",
            "9\n",
            "10\n"
          ]
        }
      ]
    },
    {
      "cell_type": "markdown",
      "metadata": {
        "id": "KPJKm7ehpMhy"
      },
      "source": [
        "2. Calcula la suma de todos los números desde el 1 hasta un número dado incluido(pide un número mediante la función input y haz el calculo en base a éste) mediante un bucle\n",
        "**Output deseado:** Si proporcionamos el número 12, el output debería ser 78"
      ]
    },
    {
      "cell_type": "code",
      "metadata": {
        "colab": {
          "base_uri": "https://localhost:8080/"
        },
        "id": "ln2VGli2qITQ",
        "outputId": "5d1c6cfe-475d-4505-9cb6-19ef78a6c050"
      },
      "source": [
        "x = int(input('Hasta que número quieres hacer el sumatorio? '))\n",
        "\n",
        "sum = 0\n",
        "\n",
        "for i in range(x+1):\n",
        "  sum += i\n",
        "\n",
        "print(sum)"
      ],
      "execution_count": null,
      "outputs": [
        {
          "output_type": "stream",
          "name": "stdout",
          "text": [
            "Hasta que número quieres hacer el sumatorio? 12\n",
            "78\n"
          ]
        }
      ]
    },
    {
      "cell_type": "code",
      "metadata": {
        "colab": {
          "base_uri": "https://localhost:8080/"
        },
        "id": "Lsl02fW8-0OC",
        "outputId": "903aad6c-c524-4061-d0be-e0111da094d2"
      },
      "source": [
        "x = int(input('Hasta que número quieres hacer el sumatorio? '))\n",
        "\n",
        "i, sum = 0, 0\n",
        "\n",
        "while i<x+1:\n",
        "  sum += i\n",
        "  i+=1\n",
        "\n",
        "print(sum)"
      ],
      "execution_count": null,
      "outputs": [
        {
          "output_type": "stream",
          "name": "stdout",
          "text": [
            "Hasta que número quieres hacer el sumatorio? 12\n",
            "78\n"
          ]
        }
      ]
    },
    {
      "cell_type": "markdown",
      "metadata": {
        "id": "didI1oIdqOay"
      },
      "source": [
        "3. Escribe un programa que añada en una lista todos los números que sean divisibles entre 5 y 7, o lo que es lo mismo todos los números múltiples de 5 y 7, y que se encuentren entre el 1900 y el 2700 (ambos incluidos).\n",
        "\n",
        "*Recordemos que hay un operador muy útil para saber si un número es múltiple/divisible respecto a otro!*\n",
        "\n",
        "**Output deseado:** [1925, 1960, 1995, 2030, 2065, 2100, 2135, 2170, 2205, 2240, 2275, 2310, 2345, 2380, 2415, 2450, 2485, 2520, 2555, 2590, 2625, 2660, 2695]\n"
      ]
    },
    {
      "cell_type": "code",
      "metadata": {
        "colab": {
          "base_uri": "https://localhost:8080/"
        },
        "id": "xJjrkg1yrRfU",
        "outputId": "bbca6085-2434-4299-a93d-9767d042c73a"
      },
      "source": [
        "mylist = []\n",
        "\n",
        "for i in range(1900,2701,1):\n",
        "  if i%5==0 and i%7==0:\n",
        "    mylist.append(i)\n",
        "\n",
        "print(mylist)"
      ],
      "execution_count": null,
      "outputs": [
        {
          "output_type": "stream",
          "name": "stdout",
          "text": [
            "[1925, 1960, 1995, 2030, 2065, 2100, 2135, 2170, 2205, 2240, 2275, 2310, 2345, 2380, 2415, 2450, 2485, 2520, 2555, 2590, 2625, 2660, 2695]\n"
          ]
        }
      ]
    },
    {
      "cell_type": "markdown",
      "metadata": {
        "id": "2jM1mYd1s-Pp"
      },
      "source": [
        "4. Escribe un programa que calcule el equivalente de edad humana de la edad de un perro. Notemos que por los dos primeros años, un año de perro son como 10.5 años de humano. A partir de ese momento, cada año de perro son como 4 años de humano.\n",
        "\n",
        "**Output deseado:**\n",
        "\n",
        "Cuántos años tiene el perro? 10\n",
        "\n",
        "La edad del perro equivalente a la humana es de 53 años"
      ]
    },
    {
      "cell_type": "code",
      "metadata": {
        "colab": {
          "base_uri": "https://localhost:8080/"
        },
        "id": "LOtim87Ov9fI",
        "outputId": "1824a58b-2b41-4d01-ce1a-87f24b65b3eb"
      },
      "source": [
        "x = int(input('Cuántos años tiene el perro? ' ))\n",
        "\n",
        "if x<=2:\n",
        "  edad = x*10.5\n",
        "\n",
        "else:\n",
        "  edad = 21 + (x-2)*4\n",
        "\n",
        "print('La edad del perro equivalente a la humana es de', edad, 'años')"
      ],
      "execution_count": null,
      "outputs": [
        {
          "output_type": "stream",
          "name": "stdout",
          "text": [
            "Cuántos años tiene el perro? 10\n",
            "La edad del perro equivalente a la humana es de 53 años\n"
          ]
        }
      ]
    },
    {
      "cell_type": "markdown",
      "metadata": {
        "id": "JKEj8QFKuhAm"
      },
      "source": [
        "5. Escribe una función a la que le pases las medidas de los 3 lados de un triangulo y te diga si el triangulo es equilátero, escaleno o isósceles. Recordemos que un triangulo equilátero tiene los tres lados iguales, un triangulo escaleno tiene los tres lados distintos y un triangulo isósceles tiene dos lados iguales.\n",
        "\n",
        "**Output deseado:**\n",
        "\n",
        "Al pasarle a la función las medidas 3, 5 y 9. Obtenemos como output:\n",
        "\n",
        "El triangulo es \n",
        "escaleno"
      ]
    },
    {
      "cell_type": "code",
      "metadata": {
        "id": "pgyLT2aMv963"
      },
      "source": [
        "#define la función\n",
        "\n",
        "def triangle_function(a,b,c):\n",
        "  if a==b and b==c:\n",
        "    print('El triangulo es equilátero')\n",
        "\n",
        "  elif a!=b and a!=c and b!=c:\n",
        "    print('El triangulo es escaleno')\n",
        "\n",
        "  else:\n",
        "    print('El triangulo es isósceles') "
      ],
      "execution_count": null,
      "outputs": []
    },
    {
      "cell_type": "code",
      "metadata": {
        "colab": {
          "base_uri": "https://localhost:8080/"
        },
        "id": "SVJCyS-cDzG4",
        "outputId": "5a712e4d-7e49-4619-a111-f574b61f8f10"
      },
      "source": [
        "#ejecuta la función\n",
        "triangle_function(3,5,9)"
      ],
      "execution_count": null,
      "outputs": [
        {
          "output_type": "stream",
          "name": "stdout",
          "text": [
            "El triangulo es escaleno\n"
          ]
        }
      ]
    },
    {
      "cell_type": "markdown",
      "metadata": {
        "id": "v3nrdel13bLb"
      },
      "source": [
        "6. Escribe una función a la que le pases una lista de números y te devuelva mediante el return el resultado de la suma de todos los números que formaban la lista. Luego ejecuta la función e imprime su output.\n",
        "\n",
        "**Output deseado:**\n",
        "\n",
        "Si pasamos la lista [8,12,4,0,2] a la función programada el output debería ser 26."
      ]
    },
    {
      "cell_type": "code",
      "metadata": {
        "id": "g0WvKGMV4L0a"
      },
      "source": [
        "#define la función\n",
        "def sum_lista(mylist):\n",
        "  sum = 0\n",
        "  for k in mylist:\n",
        "    sum+=k\n",
        "  return sum"
      ],
      "execution_count": null,
      "outputs": []
    },
    {
      "cell_type": "code",
      "metadata": {
        "colab": {
          "base_uri": "https://localhost:8080/"
        },
        "id": "tkdWcqJJFAFh",
        "outputId": "3d40b15c-0781-4e44-a058-3cac31844eba"
      },
      "source": [
        "#ejecuta la función\n",
        "print(sum_lista([8,12,4,0,2]))"
      ],
      "execution_count": null,
      "outputs": [
        {
          "output_type": "stream",
          "name": "stdout",
          "text": [
            "26\n"
          ]
        }
      ]
    },
    {
      "cell_type": "markdown",
      "metadata": {
        "id": "BSg3FilR0NKo"
      },
      "source": [
        "**MINI PROYECTO: Juego de Piedra, Papel o Tijeras**\n",
        "\n",
        "Programa el juego de piedra, papel o tijeras:\n",
        "1. Haz que el programa te pida piedra, papel o tijeras\n",
        "2. Luego la maquina deberá hacer un random de piedra, papel o tijeras\n",
        "3. Compara el input con el resultado del random y imprime quien ha ganado el juego y porqué\n",
        "\n",
        "**Output deseado**\n",
        "\n",
        "Piedra, Papel o Tijeras? Tijeras\n",
        "\n",
        "Has ganado! Has cortado al Papel"
      ]
    },
    {
      "cell_type": "markdown",
      "metadata": {
        "id": "MVAlGqUN078h"
      },
      "source": [
        "*Recordemos el uso de la función random:*\n",
        "\n",
        "Primero deberemos importar la libreria que contiene la función random escribiendo:\n",
        "\n",
        "**import random**\n",
        "\n",
        "Luego, tenemos dos funciones que nos pueden ser útiles en este caso: **random.randint(start, stop)** y **random.choice(list)** La primera nos dará un número random entre el start y el stop (ambos incluidos) y la segunda nos dará un elemento random de la lista que le pasemos.\n"
      ]
    },
    {
      "cell_type": "markdown",
      "metadata": {
        "id": "zh205-cFV9f8"
      },
      "source": [
        "**NOTA:** Para hacerlo más interactivo podemos meter el código del juego en un bucle while. Al final del juego preguntamos al jugador si quiere volver a jugar, mientras la respuesta sea Si, repetimos, sino salimos del bucle."
      ]
    },
    {
      "cell_type": "code",
      "metadata": {
        "colab": {
          "base_uri": "https://localhost:8080/"
        },
        "id": "125VGVg70T5u",
        "outputId": "05a9103c-8ef8-4213-dba9-a0c727373e7a"
      },
      "source": [
        "import random\n",
        "\n",
        "answer = 'Si'\n",
        "\n",
        "while answer == 'Si':\n",
        "  user = str(input('Piedra, Papel o Tijeras? '))\n",
        "\n",
        "  options = ['Piedra', 'Papel', 'Tijeras']\n",
        "\n",
        "  # computer = options[random.randint(0,2)]\n",
        "  computer = random.choice(options)\n",
        "\n",
        "  if user==computer:\n",
        "    print('Empate! Vuelve a jugar')\n",
        "\n",
        "  elif user == 'Piedra':\n",
        "    if computer == 'Papel':\n",
        "      print('Has perdido... El papel envuelve a la piedra')\n",
        "    elif computer == 'Tijeras':\n",
        "      print('Has ganado! La piedra rompe las tijeras')\n",
        "\n",
        "  elif user == 'Papel':\n",
        "    if computer == 'Piedra':\n",
        "        print('Has ganado! El papel envuelve a la piedra')\n",
        "    elif computer == 'Tijeras':\n",
        "      print('Has perdido... Las tijeras cortan el papel')\n",
        "\n",
        "  elif user == 'Tijeras':\n",
        "    if computer == 'Papel':\n",
        "      print('Has ganado! Las tijeras cortan el papel')\n",
        "    elif computer == 'Piedra':\n",
        "      print('Has perdido... La piedra rompe las tijeras')\n",
        "\n",
        "  answer = str(input('¿Quieres volver a jugar? (Si/No) '))\n"
      ],
      "execution_count": null,
      "outputs": [
        {
          "name": "stdout",
          "output_type": "stream",
          "text": [
            "Piedra, Papel o Tijeras? Papel\n",
            "Empate! Vuelve a jugar\n",
            "¿Quieres volver a jugar? (Si/No) Si\n",
            "Piedra, Papel o Tijeras? Piedra\n",
            "Empate! Vuelve a jugar\n",
            "¿Quieres volver a jugar? (Si/No) Si\n",
            "Piedra, Papel o Tijeras? Piedra\n",
            "Has perdido... El papel envuelve a la piedra\n",
            "¿Quieres volver a jugar? (Si/No) No\n"
          ]
        }
      ]
    },
    {
      "cell_type": "markdown",
      "metadata": {
        "id": "cMS5zAhN2PT-"
      },
      "source": [
        "**MINI PROYECTO: CREA TU PROPIO QUIZ**\n",
        "\n",
        "Crea un quiz de cinco preguntas con respuestas a elegir a), b) y c) y que dependiendo de la letra que haya sido escogida más veces, el test te dé una respuesta u otra. \n",
        "\n",
        "Ejemplos de temática del quiz podrian ser: A qué animal te pareces más? Qué superhéroe eres? "
      ]
    },
    {
      "cell_type": "code",
      "metadata": {
        "id": "_-vaGaVN3F-M"
      },
      "source": [
        ""
      ],
      "execution_count": null,
      "outputs": []
    }
  ]
}